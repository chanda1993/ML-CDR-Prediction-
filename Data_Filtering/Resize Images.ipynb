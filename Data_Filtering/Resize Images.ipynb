{
 "cells": [
  {
   "cell_type": "code",
   "execution_count": 12,
   "metadata": {},
   "outputs": [],
   "source": [
    "from PIL import Image\n",
    "import glob"
   ]
  },
  {
   "cell_type": "code",
   "execution_count": 13,
   "metadata": {},
   "outputs": [
    {
     "name": "stdout",
     "output_type": "stream",
     "text": [
      "PNG\n",
      "size: (471, 334)\n",
      "image mode: RGBA\n"
     ]
    }
   ],
   "source": [
    "img_path = 'TEST/img2.PNG'\n",
    "\n",
    "im = Image.open(img_path)\n",
    "print ( '{}'. format(im.format))\n",
    "print ('size: {}'. format(im.size))\n",
    "print ('image mode: {}'.format(im.mode))\n",
    "im.show()"
   ]
  },
  {
   "cell_type": "code",
   "execution_count": 14,
   "metadata": {},
   "outputs": [],
   "source": [
    "image_list = []\n",
    "resized_images = []"
   ]
  },
  {
   "cell_type": "code",
   "execution_count": 18,
   "metadata": {},
   "outputs": [
    {
     "name": "stdout",
     "output_type": "stream",
     "text": [
      "TEST/img2.PNG\n"
     ]
    }
   ],
   "source": [
    "for filename in glob.glob('TEST/img2.PNG'):\n",
    "    print(filename)\n",
    "    img = Image.open(filename)\n",
    "    image_list.append(img)"
   ]
  },
  {
   "cell_type": "code",
   "execution_count": 19,
   "metadata": {},
   "outputs": [],
   "source": [
    "for image in image_list:\n",
    "    image.show()\n",
    "    image = image.resize((200,200))\n",
    "    resized_images.append(image)"
   ]
  },
  {
   "cell_type": "code",
   "execution_count": 22,
   "metadata": {},
   "outputs": [],
   "source": [
    "for (i, new) in enumerate(resized_images):\n",
    "    new.save('{}{}{}'.format('TEST', i+1, '.png'))"
   ]
  },
  {
   "cell_type": "code",
   "execution_count": null,
   "metadata": {},
   "outputs": [],
   "source": []
  }
 ],
 "metadata": {
  "kernelspec": {
   "display_name": "Python 3",
   "language": "python",
   "name": "python3"
  },
  "language_info": {
   "codemirror_mode": {
    "name": "ipython",
    "version": 3
   },
   "file_extension": ".py",
   "mimetype": "text/x-python",
   "name": "python",
   "nbconvert_exporter": "python",
   "pygments_lexer": "ipython3",
   "version": "3.7.6"
  }
 },
 "nbformat": 4,
 "nbformat_minor": 4
}
